{
 "cells": [
  {
   "cell_type": "code",
   "execution_count": 1,
   "metadata": {},
   "outputs": [],
   "source": [
    "#pip install requests"
   ]
  },
  {
   "cell_type": "code",
   "execution_count": 2,
   "metadata": {},
   "outputs": [],
   "source": [
    "import pandas as pd\n",
    "import requests"
   ]
  },
  {
   "cell_type": "code",
   "execution_count": 3,
   "metadata": {},
   "outputs": [],
   "source": [
    "\n",
    "#GET /{lang}/datos/{category}/{widget}?[query]"
   ]
  },
  {
   "cell_type": "code",
   "execution_count": 4,
   "metadata": {},
   "outputs": [],
   "source": [
    "lang = \"es\"\n",
    "category = \"generacion\"\n",
    "widget = \"evolucion-renovable-no-renovable\"\n",
    "fecha_inicio = \"2016-01-01T00:00\"\n",
    "fecha_fin = \"2020-12-31T00:00\"\n",
    "\n",
    "query = f\"start_date={fecha_inicio}&end_date={fecha_fin}&time_trunc=year\""
   ]
  },
  {
   "cell_type": "code",
   "execution_count": 5,
   "metadata": {},
   "outputs": [
    {
     "data": {
      "text/plain": [
       "200"
      ]
     },
     "execution_count": 5,
     "metadata": {},
     "output_type": "execute_result"
    }
   ],
   "source": [
    "url = \"https://apidatos.ree.es/es/datos/generacion/evolucion-renovable-no-renovable?start_date=2016-01-01T00:00&end_date=2020-01-31T23:59&time_trunc=year\"\n",
    "\n",
    "res = requests.get(url)\n",
    "res.status_code"
   ]
  },
  {
   "cell_type": "code",
   "execution_count": 6,
   "metadata": {},
   "outputs": [],
   "source": [
    "#url = f\"https://apidatos.ree.es/{lang}/datos/{category}/{widget}?{query}\"\n",
    "\n",
    "\n",
    "# Utilizando el método request pasamosla url y guardamos la respuesta en una variable \n",
    "\n",
    "#res = requests.get(url)\n",
    "#res.status_code"
   ]
  },
  {
   "cell_type": "code",
   "execution_count": 7,
   "metadata": {},
   "outputs": [
    {
     "data": {
      "text/plain": [
       "{'data': {'type': 'Evolución de la generación renovable/no renovable',\n",
       "  'id': 'gen2',\n",
       "  'attributes': {'title': 'Evolución de la generación renovable/no renovable',\n",
       "   'last-update': '2019-06-12T16:43:20.000+02:00',\n",
       "   'description': None},\n",
       "  'meta': {'cache-control': {'cache': 'HIT',\n",
       "    'expireAt': '2023-12-05T16:47:07'}}},\n",
       " 'included': [{'type': 'Renovable',\n",
       "   'id': '10299',\n",
       "   'groupId': None,\n",
       "   'attributes': {'title': 'Renovable',\n",
       "    'description': 'Energía renovable: incluye hidráulica, hidroeólica, eólica, solar fotovoltaica, solar térmica, otras renovables y residuos renovables.',\n",
       "    'color': '#92d050',\n",
       "    'type': 'Renovable',\n",
       "    'magnitude': None,\n",
       "    'composite': False,\n",
       "    'last-update': '2019-06-12T16:43:20.000+02:00',\n",
       "    'values': [{'value': 101089169.1845004,\n",
       "      'percentage': 0.3860786457529761,\n",
       "      'datetime': '2016-01-01T00:00:00.000+01:00'},\n",
       "     {'value': 84610866.487,\n",
       "      'percentage': 0.32256579914122496,\n",
       "      'datetime': '2017-01-01T00:00:00.000+01:00'},\n",
       "     {'value': 100344405.2130003,\n",
       "      'percentage': 0.38448798337897666,\n",
       "      'datetime': '2018-01-01T00:00:00.000+01:00'},\n",
       "     {'value': 97913298.8200003,\n",
       "      'percentage': 0.3753929209351504,\n",
       "      'datetime': '2019-01-01T00:00:00.000+01:00'},\n",
       "     {'value': 9468207.515,\n",
       "      'percentage': 0.4163078791435909,\n",
       "      'datetime': '2020-01-01T00:00:00.000+01:00'}]}},\n",
       "  {'type': 'No renovable',\n",
       "   'id': '10298',\n",
       "   'groupId': None,\n",
       "   'attributes': {'title': 'No renovable',\n",
       "    'description': None,\n",
       "    'color': '#666666',\n",
       "    'type': 'No renovable',\n",
       "    'magnitude': None,\n",
       "    'composite': False,\n",
       "    'last-update': '2019-06-12T16:43:20.000+02:00',\n",
       "    'values': [{'value': 160746522.3165003,\n",
       "      'percentage': 0.6139213542470239,\n",
       "      'datetime': '2016-01-01T00:00:00.000+01:00'},\n",
       "     {'value': 177694891.6319997,\n",
       "      'percentage': 0.6774342008587749,\n",
       "      'datetime': '2017-01-01T00:00:00.000+01:00'},\n",
       "     {'value': 160637496.8249998,\n",
       "      'percentage': 0.6155120166210234,\n",
       "      'datetime': '2018-01-01T00:00:00.000+01:00'},\n",
       "     {'value': 162915537.7390006,\n",
       "      'percentage': 0.6246070790648495,\n",
       "      'datetime': '2019-01-01T00:00:00.000+01:00'},\n",
       "     {'value': 13275074.535,\n",
       "      'percentage': 0.5836921208564091,\n",
       "      'datetime': '2020-01-01T00:00:00.000+01:00'}]}}]}"
      ]
     },
     "execution_count": 7,
     "metadata": {},
     "output_type": "execute_result"
    }
   ],
   "source": [
    "res_api = res.json()\n",
    "res_api"
   ]
  },
  {
   "cell_type": "code",
   "execution_count": 8,
   "metadata": {},
   "outputs": [
    {
     "data": {
      "text/plain": [
       "dict"
      ]
     },
     "execution_count": 8,
     "metadata": {},
     "output_type": "execute_result"
    }
   ],
   "source": [
    "type(res_api)"
   ]
  },
  {
   "cell_type": "code",
   "execution_count": 9,
   "metadata": {},
   "outputs": [
    {
     "data": {
      "text/plain": [
       "dict_keys(['data', 'included'])"
      ]
     },
     "execution_count": 9,
     "metadata": {},
     "output_type": "execute_result"
    }
   ],
   "source": [
    "# Para ver lo que nos devuelve el response lo mas efectivo es analizar las claves del diccionario \n",
    "\n",
    "res_api.keys()"
   ]
  },
  {
   "cell_type": "markdown",
   "metadata": {},
   "source": [
    "Keys del diccionario"
   ]
  },
  {
   "cell_type": "code",
   "execution_count": 10,
   "metadata": {},
   "outputs": [
    {
     "data": {
      "text/plain": [
       "{'type': 'Evolución de la generación renovable/no renovable',\n",
       " 'id': 'gen2',\n",
       " 'attributes': {'title': 'Evolución de la generación renovable/no renovable',\n",
       "  'last-update': '2019-06-12T16:43:20.000+02:00',\n",
       "  'description': None},\n",
       " 'meta': {'cache-control': {'cache': 'HIT',\n",
       "   'expireAt': '2023-12-05T16:47:07'}}}"
      ]
     },
     "execution_count": 10,
     "metadata": {},
     "output_type": "execute_result"
    }
   ],
   "source": [
    "res_api['data']"
   ]
  },
  {
   "cell_type": "code",
   "execution_count": 11,
   "metadata": {},
   "outputs": [
    {
     "data": {
      "text/plain": [
       "[{'type': 'Renovable',\n",
       "  'id': '10299',\n",
       "  'groupId': None,\n",
       "  'attributes': {'title': 'Renovable',\n",
       "   'description': 'Energía renovable: incluye hidráulica, hidroeólica, eólica, solar fotovoltaica, solar térmica, otras renovables y residuos renovables.',\n",
       "   'color': '#92d050',\n",
       "   'type': 'Renovable',\n",
       "   'magnitude': None,\n",
       "   'composite': False,\n",
       "   'last-update': '2019-06-12T16:43:20.000+02:00',\n",
       "   'values': [{'value': 101089169.1845004,\n",
       "     'percentage': 0.3860786457529761,\n",
       "     'datetime': '2016-01-01T00:00:00.000+01:00'},\n",
       "    {'value': 84610866.487,\n",
       "     'percentage': 0.32256579914122496,\n",
       "     'datetime': '2017-01-01T00:00:00.000+01:00'},\n",
       "    {'value': 100344405.2130003,\n",
       "     'percentage': 0.38448798337897666,\n",
       "     'datetime': '2018-01-01T00:00:00.000+01:00'},\n",
       "    {'value': 97913298.8200003,\n",
       "     'percentage': 0.3753929209351504,\n",
       "     'datetime': '2019-01-01T00:00:00.000+01:00'},\n",
       "    {'value': 9468207.515,\n",
       "     'percentage': 0.4163078791435909,\n",
       "     'datetime': '2020-01-01T00:00:00.000+01:00'}]}},\n",
       " {'type': 'No renovable',\n",
       "  'id': '10298',\n",
       "  'groupId': None,\n",
       "  'attributes': {'title': 'No renovable',\n",
       "   'description': None,\n",
       "   'color': '#666666',\n",
       "   'type': 'No renovable',\n",
       "   'magnitude': None,\n",
       "   'composite': False,\n",
       "   'last-update': '2019-06-12T16:43:20.000+02:00',\n",
       "   'values': [{'value': 160746522.3165003,\n",
       "     'percentage': 0.6139213542470239,\n",
       "     'datetime': '2016-01-01T00:00:00.000+01:00'},\n",
       "    {'value': 177694891.6319997,\n",
       "     'percentage': 0.6774342008587749,\n",
       "     'datetime': '2017-01-01T00:00:00.000+01:00'},\n",
       "    {'value': 160637496.8249998,\n",
       "     'percentage': 0.6155120166210234,\n",
       "     'datetime': '2018-01-01T00:00:00.000+01:00'},\n",
       "    {'value': 162915537.7390006,\n",
       "     'percentage': 0.6246070790648495,\n",
       "     'datetime': '2019-01-01T00:00:00.000+01:00'},\n",
       "    {'value': 13275074.535,\n",
       "     'percentage': 0.5836921208564091,\n",
       "     'datetime': '2020-01-01T00:00:00.000+01:00'}]}}]"
      ]
     },
     "execution_count": 11,
     "metadata": {},
     "output_type": "execute_result"
    }
   ],
   "source": [
    "res_api['included']  #RENOVABLE Y NO RENOVABLE, contiene las 2"
   ]
  },
  {
   "cell_type": "code",
   "execution_count": 12,
   "metadata": {},
   "outputs": [
    {
     "data": {
      "text/plain": [
       "{'type': 'Renovable',\n",
       " 'id': '10299',\n",
       " 'groupId': None,\n",
       " 'attributes': {'title': 'Renovable',\n",
       "  'description': 'Energía renovable: incluye hidráulica, hidroeólica, eólica, solar fotovoltaica, solar térmica, otras renovables y residuos renovables.',\n",
       "  'color': '#92d050',\n",
       "  'type': 'Renovable',\n",
       "  'magnitude': None,\n",
       "  'composite': False,\n",
       "  'last-update': '2019-06-12T16:43:20.000+02:00',\n",
       "  'values': [{'value': 101089169.1845004,\n",
       "    'percentage': 0.3860786457529761,\n",
       "    'datetime': '2016-01-01T00:00:00.000+01:00'},\n",
       "   {'value': 84610866.487,\n",
       "    'percentage': 0.32256579914122496,\n",
       "    'datetime': '2017-01-01T00:00:00.000+01:00'},\n",
       "   {'value': 100344405.2130003,\n",
       "    'percentage': 0.38448798337897666,\n",
       "    'datetime': '2018-01-01T00:00:00.000+01:00'},\n",
       "   {'value': 97913298.8200003,\n",
       "    'percentage': 0.3753929209351504,\n",
       "    'datetime': '2019-01-01T00:00:00.000+01:00'},\n",
       "   {'value': 9468207.515,\n",
       "    'percentage': 0.4163078791435909,\n",
       "    'datetime': '2020-01-01T00:00:00.000+01:00'}]}}"
      ]
     },
     "execution_count": 12,
     "metadata": {},
     "output_type": "execute_result"
    }
   ],
   "source": [
    "res_api['included'][0]   #RENOVABLE "
   ]
  },
  {
   "cell_type": "code",
   "execution_count": 13,
   "metadata": {},
   "outputs": [
    {
     "data": {
      "text/plain": [
       "dict_keys(['type', 'id', 'groupId', 'attributes'])"
      ]
     },
     "execution_count": 13,
     "metadata": {},
     "output_type": "execute_result"
    }
   ],
   "source": [
    "res_api['included'][0].keys()"
   ]
  },
  {
   "cell_type": "code",
   "execution_count": 14,
   "metadata": {},
   "outputs": [
    {
     "data": {
      "text/plain": [
       "{'title': 'Renovable',\n",
       " 'description': 'Energía renovable: incluye hidráulica, hidroeólica, eólica, solar fotovoltaica, solar térmica, otras renovables y residuos renovables.',\n",
       " 'color': '#92d050',\n",
       " 'type': 'Renovable',\n",
       " 'magnitude': None,\n",
       " 'composite': False,\n",
       " 'last-update': '2019-06-12T16:43:20.000+02:00',\n",
       " 'values': [{'value': 101089169.1845004,\n",
       "   'percentage': 0.3860786457529761,\n",
       "   'datetime': '2016-01-01T00:00:00.000+01:00'},\n",
       "  {'value': 84610866.487,\n",
       "   'percentage': 0.32256579914122496,\n",
       "   'datetime': '2017-01-01T00:00:00.000+01:00'},\n",
       "  {'value': 100344405.2130003,\n",
       "   'percentage': 0.38448798337897666,\n",
       "   'datetime': '2018-01-01T00:00:00.000+01:00'},\n",
       "  {'value': 97913298.8200003,\n",
       "   'percentage': 0.3753929209351504,\n",
       "   'datetime': '2019-01-01T00:00:00.000+01:00'},\n",
       "  {'value': 9468207.515,\n",
       "   'percentage': 0.4163078791435909,\n",
       "   'datetime': '2020-01-01T00:00:00.000+01:00'}]}"
      ]
     },
     "execution_count": 14,
     "metadata": {},
     "output_type": "execute_result"
    }
   ],
   "source": [
    "res_api['included'][0][\"attributes\"]"
   ]
  },
  {
   "cell_type": "code",
   "execution_count": 15,
   "metadata": {},
   "outputs": [
    {
     "data": {
      "text/plain": [
       "dict_keys(['title', 'description', 'color', 'type', 'magnitude', 'composite', 'last-update', 'values'])"
      ]
     },
     "execution_count": 15,
     "metadata": {},
     "output_type": "execute_result"
    }
   ],
   "source": [
    "res_api['included'][0][\"attributes\"].keys()"
   ]
  },
  {
   "cell_type": "code",
   "execution_count": 16,
   "metadata": {},
   "outputs": [
    {
     "data": {
      "text/plain": [
       "[{'value': 101089169.1845004,\n",
       "  'percentage': 0.3860786457529761,\n",
       "  'datetime': '2016-01-01T00:00:00.000+01:00'},\n",
       " {'value': 84610866.487,\n",
       "  'percentage': 0.32256579914122496,\n",
       "  'datetime': '2017-01-01T00:00:00.000+01:00'},\n",
       " {'value': 100344405.2130003,\n",
       "  'percentage': 0.38448798337897666,\n",
       "  'datetime': '2018-01-01T00:00:00.000+01:00'},\n",
       " {'value': 97913298.8200003,\n",
       "  'percentage': 0.3753929209351504,\n",
       "  'datetime': '2019-01-01T00:00:00.000+01:00'},\n",
       " {'value': 9468207.515,\n",
       "  'percentage': 0.4163078791435909,\n",
       "  'datetime': '2020-01-01T00:00:00.000+01:00'}]"
      ]
     },
     "execution_count": 16,
     "metadata": {},
     "output_type": "execute_result"
    }
   ],
   "source": [
    "Renovable = res_api['included'][0][\"attributes\"][\"values\"]\n",
    "Renovable"
   ]
  },
  {
   "cell_type": "markdown",
   "metadata": {},
   "source": [
    "*** Now with NO RENOVABLE ***"
   ]
  },
  {
   "cell_type": "code",
   "execution_count": 17,
   "metadata": {},
   "outputs": [
    {
     "data": {
      "text/plain": [
       "{'type': 'No renovable',\n",
       " 'id': '10298',\n",
       " 'groupId': None,\n",
       " 'attributes': {'title': 'No renovable',\n",
       "  'description': None,\n",
       "  'color': '#666666',\n",
       "  'type': 'No renovable',\n",
       "  'magnitude': None,\n",
       "  'composite': False,\n",
       "  'last-update': '2019-06-12T16:43:20.000+02:00',\n",
       "  'values': [{'value': 160746522.3165003,\n",
       "    'percentage': 0.6139213542470239,\n",
       "    'datetime': '2016-01-01T00:00:00.000+01:00'},\n",
       "   {'value': 177694891.6319997,\n",
       "    'percentage': 0.6774342008587749,\n",
       "    'datetime': '2017-01-01T00:00:00.000+01:00'},\n",
       "   {'value': 160637496.8249998,\n",
       "    'percentage': 0.6155120166210234,\n",
       "    'datetime': '2018-01-01T00:00:00.000+01:00'},\n",
       "   {'value': 162915537.7390006,\n",
       "    'percentage': 0.6246070790648495,\n",
       "    'datetime': '2019-01-01T00:00:00.000+01:00'},\n",
       "   {'value': 13275074.535,\n",
       "    'percentage': 0.5836921208564091,\n",
       "    'datetime': '2020-01-01T00:00:00.000+01:00'}]}}"
      ]
     },
     "execution_count": 17,
     "metadata": {},
     "output_type": "execute_result"
    }
   ],
   "source": [
    "res_api['included'][1]   #NO RENOVABLE "
   ]
  },
  {
   "cell_type": "code",
   "execution_count": 18,
   "metadata": {},
   "outputs": [
    {
     "data": {
      "text/plain": [
       "dict_keys(['type', 'id', 'groupId', 'attributes'])"
      ]
     },
     "execution_count": 18,
     "metadata": {},
     "output_type": "execute_result"
    }
   ],
   "source": [
    "res_api['included'][1].keys()"
   ]
  },
  {
   "cell_type": "code",
   "execution_count": 19,
   "metadata": {},
   "outputs": [
    {
     "data": {
      "text/plain": [
       "{'title': 'No renovable',\n",
       " 'description': None,\n",
       " 'color': '#666666',\n",
       " 'type': 'No renovable',\n",
       " 'magnitude': None,\n",
       " 'composite': False,\n",
       " 'last-update': '2019-06-12T16:43:20.000+02:00',\n",
       " 'values': [{'value': 160746522.3165003,\n",
       "   'percentage': 0.6139213542470239,\n",
       "   'datetime': '2016-01-01T00:00:00.000+01:00'},\n",
       "  {'value': 177694891.6319997,\n",
       "   'percentage': 0.6774342008587749,\n",
       "   'datetime': '2017-01-01T00:00:00.000+01:00'},\n",
       "  {'value': 160637496.8249998,\n",
       "   'percentage': 0.6155120166210234,\n",
       "   'datetime': '2018-01-01T00:00:00.000+01:00'},\n",
       "  {'value': 162915537.7390006,\n",
       "   'percentage': 0.6246070790648495,\n",
       "   'datetime': '2019-01-01T00:00:00.000+01:00'},\n",
       "  {'value': 13275074.535,\n",
       "   'percentage': 0.5836921208564091,\n",
       "   'datetime': '2020-01-01T00:00:00.000+01:00'}]}"
      ]
     },
     "execution_count": 19,
     "metadata": {},
     "output_type": "execute_result"
    }
   ],
   "source": [
    "res_api['included'][1][\"attributes\"]"
   ]
  },
  {
   "cell_type": "code",
   "execution_count": 20,
   "metadata": {},
   "outputs": [
    {
     "data": {
      "text/plain": [
       "dict_keys(['title', 'description', 'color', 'type', 'magnitude', 'composite', 'last-update', 'values'])"
      ]
     },
     "execution_count": 20,
     "metadata": {},
     "output_type": "execute_result"
    }
   ],
   "source": [
    "res_api['included'][1][\"attributes\"].keys()"
   ]
  },
  {
   "cell_type": "code",
   "execution_count": 21,
   "metadata": {},
   "outputs": [
    {
     "data": {
      "text/plain": [
       "[{'value': 160746522.3165003,\n",
       "  'percentage': 0.6139213542470239,\n",
       "  'datetime': '2016-01-01T00:00:00.000+01:00'},\n",
       " {'value': 177694891.6319997,\n",
       "  'percentage': 0.6774342008587749,\n",
       "  'datetime': '2017-01-01T00:00:00.000+01:00'},\n",
       " {'value': 160637496.8249998,\n",
       "  'percentage': 0.6155120166210234,\n",
       "  'datetime': '2018-01-01T00:00:00.000+01:00'},\n",
       " {'value': 162915537.7390006,\n",
       "  'percentage': 0.6246070790648495,\n",
       "  'datetime': '2019-01-01T00:00:00.000+01:00'},\n",
       " {'value': 13275074.535,\n",
       "  'percentage': 0.5836921208564091,\n",
       "  'datetime': '2020-01-01T00:00:00.000+01:00'}]"
      ]
     },
     "execution_count": 21,
     "metadata": {},
     "output_type": "execute_result"
    }
   ],
   "source": [
    "res_api['included'][1][\"attributes\"][\"values\"]"
   ]
  },
  {
   "cell_type": "code",
   "execution_count": 22,
   "metadata": {},
   "outputs": [],
   "source": [
    "No_Renovable = res_api['included'][1][\"attributes\"][\"values\"]"
   ]
  },
  {
   "cell_type": "markdown",
   "metadata": {},
   "source": [
    "### TRANSFORMACION DE LOS DATOS  "
   ]
  },
  {
   "cell_type": "markdown",
   "metadata": {},
   "source": [
    "DF ENERGIA RENOVABLE \n",
    "\n",
    "Energía renovable: incluye hidráulica, hidroeólica, eólica, solar fotovoltaica, solar térmica, otras renovables y residuos renovables"
   ]
  },
  {
   "cell_type": "code",
   "execution_count": 23,
   "metadata": {},
   "outputs": [
    {
     "data": {
      "text/html": [
       "<div>\n",
       "<style scoped>\n",
       "    .dataframe tbody tr th:only-of-type {\n",
       "        vertical-align: middle;\n",
       "    }\n",
       "\n",
       "    .dataframe tbody tr th {\n",
       "        vertical-align: top;\n",
       "    }\n",
       "\n",
       "    .dataframe thead th {\n",
       "        text-align: right;\n",
       "    }\n",
       "</style>\n",
       "<table border=\"1\" class=\"dataframe\">\n",
       "  <thead>\n",
       "    <tr style=\"text-align: right;\">\n",
       "      <th></th>\n",
       "      <th>value</th>\n",
       "      <th>percentage</th>\n",
       "      <th>datetime</th>\n",
       "    </tr>\n",
       "  </thead>\n",
       "  <tbody>\n",
       "    <tr>\n",
       "      <th>0</th>\n",
       "      <td>1.010892e+08</td>\n",
       "      <td>0.386079</td>\n",
       "      <td>2016-01-01T00:00:00.000+01:00</td>\n",
       "    </tr>\n",
       "    <tr>\n",
       "      <th>1</th>\n",
       "      <td>8.461087e+07</td>\n",
       "      <td>0.322566</td>\n",
       "      <td>2017-01-01T00:00:00.000+01:00</td>\n",
       "    </tr>\n",
       "    <tr>\n",
       "      <th>2</th>\n",
       "      <td>1.003444e+08</td>\n",
       "      <td>0.384488</td>\n",
       "      <td>2018-01-01T00:00:00.000+01:00</td>\n",
       "    </tr>\n",
       "    <tr>\n",
       "      <th>3</th>\n",
       "      <td>9.791330e+07</td>\n",
       "      <td>0.375393</td>\n",
       "      <td>2019-01-01T00:00:00.000+01:00</td>\n",
       "    </tr>\n",
       "    <tr>\n",
       "      <th>4</th>\n",
       "      <td>9.468208e+06</td>\n",
       "      <td>0.416308</td>\n",
       "      <td>2020-01-01T00:00:00.000+01:00</td>\n",
       "    </tr>\n",
       "  </tbody>\n",
       "</table>\n",
       "</div>"
      ],
      "text/plain": [
       "          value  percentage                       datetime\n",
       "0  1.010892e+08    0.386079  2016-01-01T00:00:00.000+01:00\n",
       "1  8.461087e+07    0.322566  2017-01-01T00:00:00.000+01:00\n",
       "2  1.003444e+08    0.384488  2018-01-01T00:00:00.000+01:00\n",
       "3  9.791330e+07    0.375393  2019-01-01T00:00:00.000+01:00\n",
       "4  9.468208e+06    0.416308  2020-01-01T00:00:00.000+01:00"
      ]
     },
     "execution_count": 23,
     "metadata": {},
     "output_type": "execute_result"
    }
   ],
   "source": [
    "df_renovable = pd.DataFrame(Renovable)  #DF ENERGIA RENOVABLE \n",
    "df_renovable"
   ]
  },
  {
   "cell_type": "code",
   "execution_count": 24,
   "metadata": {},
   "outputs": [],
   "source": [
    "df_renovable['datetime'] = pd.to_datetime(df_renovable['datetime'])   # Convertir la columna 'datetime' a tipo de datos datetime\n",
    "\n",
    "df_renovable['year'] = df_renovable['datetime'].dt.year  # Extraer el año y asignarlo a una nueva columna 'year'\n",
    "\n",
    "df = df_renovable.drop(columns=['datetime']) # Elimino la columna 'datetime' original"
   ]
  },
  {
   "cell_type": "code",
   "execution_count": 25,
   "metadata": {},
   "outputs": [
    {
     "data": {
      "text/html": [
       "<div>\n",
       "<style scoped>\n",
       "    .dataframe tbody tr th:only-of-type {\n",
       "        vertical-align: middle;\n",
       "    }\n",
       "\n",
       "    .dataframe tbody tr th {\n",
       "        vertical-align: top;\n",
       "    }\n",
       "\n",
       "    .dataframe thead th {\n",
       "        text-align: right;\n",
       "    }\n",
       "</style>\n",
       "<table border=\"1\" class=\"dataframe\">\n",
       "  <thead>\n",
       "    <tr style=\"text-align: right;\">\n",
       "      <th></th>\n",
       "      <th>value</th>\n",
       "      <th>percentage</th>\n",
       "      <th>year</th>\n",
       "    </tr>\n",
       "  </thead>\n",
       "  <tbody>\n",
       "    <tr>\n",
       "      <th>0</th>\n",
       "      <td>1.010892e+08</td>\n",
       "      <td>0.386079</td>\n",
       "      <td>2016</td>\n",
       "    </tr>\n",
       "    <tr>\n",
       "      <th>1</th>\n",
       "      <td>8.461087e+07</td>\n",
       "      <td>0.322566</td>\n",
       "      <td>2017</td>\n",
       "    </tr>\n",
       "    <tr>\n",
       "      <th>2</th>\n",
       "      <td>1.003444e+08</td>\n",
       "      <td>0.384488</td>\n",
       "      <td>2018</td>\n",
       "    </tr>\n",
       "    <tr>\n",
       "      <th>3</th>\n",
       "      <td>9.791330e+07</td>\n",
       "      <td>0.375393</td>\n",
       "      <td>2019</td>\n",
       "    </tr>\n",
       "    <tr>\n",
       "      <th>4</th>\n",
       "      <td>9.468208e+06</td>\n",
       "      <td>0.416308</td>\n",
       "      <td>2020</td>\n",
       "    </tr>\n",
       "  </tbody>\n",
       "</table>\n",
       "</div>"
      ],
      "text/plain": [
       "          value  percentage  year\n",
       "0  1.010892e+08    0.386079  2016\n",
       "1  8.461087e+07    0.322566  2017\n",
       "2  1.003444e+08    0.384488  2018\n",
       "3  9.791330e+07    0.375393  2019\n",
       "4  9.468208e+06    0.416308  2020"
      ]
     },
     "execution_count": 25,
     "metadata": {},
     "output_type": "execute_result"
    }
   ],
   "source": [
    "df_renovable = df\n",
    "df_renovable"
   ]
  },
  {
   "cell_type": "code",
   "execution_count": 26,
   "metadata": {},
   "outputs": [
    {
     "data": {
      "text/plain": [
       "\"\\ndef format_decimal(number):          # Función para formatear los números en notación decimal estándar\\n\\n    return '{:,}'.format(int(number))  # Formatea el número con puntos y comas        \\n\\n# Aplicar la función a la columna\\ndf_renovable['value'] = df_renovable['value'].apply(format_decimal)\\n\\ndf_renovable\\n\""
      ]
     },
     "execution_count": 26,
     "metadata": {},
     "output_type": "execute_result"
    }
   ],
   "source": [
    "'''\n",
    "def format_decimal(number):          # Función para formatear los números en notación decimal estándar\n",
    "\n",
    "    return '{:,}'.format(int(number))  # Formatea el número con puntos y comas        \n",
    "\n",
    "# Aplicar la función a la columna\n",
    "df_renovable['value'] = df_renovable['value'].apply(format_decimal)\n",
    "\n",
    "df_renovable\n",
    "'''"
   ]
  },
  {
   "cell_type": "code",
   "execution_count": 27,
   "metadata": {},
   "outputs": [
    {
     "data": {
      "text/html": [
       "<div>\n",
       "<style scoped>\n",
       "    .dataframe tbody tr th:only-of-type {\n",
       "        vertical-align: middle;\n",
       "    }\n",
       "\n",
       "    .dataframe tbody tr th {\n",
       "        vertical-align: top;\n",
       "    }\n",
       "\n",
       "    .dataframe thead th {\n",
       "        text-align: right;\n",
       "    }\n",
       "</style>\n",
       "<table border=\"1\" class=\"dataframe\">\n",
       "  <thead>\n",
       "    <tr style=\"text-align: right;\">\n",
       "      <th></th>\n",
       "      <th>total_renewable_energy</th>\n",
       "      <th>renewable_energy_percentage</th>\n",
       "      <th>year</th>\n",
       "    </tr>\n",
       "  </thead>\n",
       "  <tbody>\n",
       "    <tr>\n",
       "      <th>0</th>\n",
       "      <td>1.010892e+08</td>\n",
       "      <td>0.386079</td>\n",
       "      <td>2016</td>\n",
       "    </tr>\n",
       "    <tr>\n",
       "      <th>1</th>\n",
       "      <td>8.461087e+07</td>\n",
       "      <td>0.322566</td>\n",
       "      <td>2017</td>\n",
       "    </tr>\n",
       "    <tr>\n",
       "      <th>2</th>\n",
       "      <td>1.003444e+08</td>\n",
       "      <td>0.384488</td>\n",
       "      <td>2018</td>\n",
       "    </tr>\n",
       "    <tr>\n",
       "      <th>3</th>\n",
       "      <td>9.791330e+07</td>\n",
       "      <td>0.375393</td>\n",
       "      <td>2019</td>\n",
       "    </tr>\n",
       "    <tr>\n",
       "      <th>4</th>\n",
       "      <td>9.468208e+06</td>\n",
       "      <td>0.416308</td>\n",
       "      <td>2020</td>\n",
       "    </tr>\n",
       "  </tbody>\n",
       "</table>\n",
       "</div>"
      ],
      "text/plain": [
       "   total_renewable_energy  renewable_energy_percentage  year\n",
       "0            1.010892e+08                     0.386079  2016\n",
       "1            8.461087e+07                     0.322566  2017\n",
       "2            1.003444e+08                     0.384488  2018\n",
       "3            9.791330e+07                     0.375393  2019\n",
       "4            9.468208e+06                     0.416308  2020"
      ]
     },
     "execution_count": 27,
     "metadata": {},
     "output_type": "execute_result"
    }
   ],
   "source": [
    "df_renovable = df_renovable.rename(columns={'percentage': 'renewable_energy_percentage'}) #RENOMBRAR COLUMNA \n",
    "df_renovable = df_renovable.rename(columns={'value': 'total_renewable_energy'})\n",
    "df_renovable"
   ]
  },
  {
   "cell_type": "code",
   "execution_count": 28,
   "metadata": {},
   "outputs": [
    {
     "data": {
      "text/html": [
       "<div>\n",
       "<style scoped>\n",
       "    .dataframe tbody tr th:only-of-type {\n",
       "        vertical-align: middle;\n",
       "    }\n",
       "\n",
       "    .dataframe tbody tr th {\n",
       "        vertical-align: top;\n",
       "    }\n",
       "\n",
       "    .dataframe thead th {\n",
       "        text-align: right;\n",
       "    }\n",
       "</style>\n",
       "<table border=\"1\" class=\"dataframe\">\n",
       "  <thead>\n",
       "    <tr style=\"text-align: right;\">\n",
       "      <th></th>\n",
       "      <th>total_renewable_energy</th>\n",
       "      <th>renewable_energy_percentage</th>\n",
       "      <th>year</th>\n",
       "      <th>iso_code</th>\n",
       "      <th>country</th>\n",
       "    </tr>\n",
       "  </thead>\n",
       "  <tbody>\n",
       "    <tr>\n",
       "      <th>0</th>\n",
       "      <td>1.010892e+08</td>\n",
       "      <td>0.386079</td>\n",
       "      <td>2016</td>\n",
       "      <td>ESP</td>\n",
       "      <td>Spain</td>\n",
       "    </tr>\n",
       "    <tr>\n",
       "      <th>1</th>\n",
       "      <td>8.461087e+07</td>\n",
       "      <td>0.322566</td>\n",
       "      <td>2017</td>\n",
       "      <td>ESP</td>\n",
       "      <td>Spain</td>\n",
       "    </tr>\n",
       "    <tr>\n",
       "      <th>2</th>\n",
       "      <td>1.003444e+08</td>\n",
       "      <td>0.384488</td>\n",
       "      <td>2018</td>\n",
       "      <td>ESP</td>\n",
       "      <td>Spain</td>\n",
       "    </tr>\n",
       "    <tr>\n",
       "      <th>3</th>\n",
       "      <td>9.791330e+07</td>\n",
       "      <td>0.375393</td>\n",
       "      <td>2019</td>\n",
       "      <td>ESP</td>\n",
       "      <td>Spain</td>\n",
       "    </tr>\n",
       "    <tr>\n",
       "      <th>4</th>\n",
       "      <td>9.468208e+06</td>\n",
       "      <td>0.416308</td>\n",
       "      <td>2020</td>\n",
       "      <td>ESP</td>\n",
       "      <td>Spain</td>\n",
       "    </tr>\n",
       "  </tbody>\n",
       "</table>\n",
       "</div>"
      ],
      "text/plain": [
       "   total_renewable_energy  renewable_energy_percentage  year iso_code country\n",
       "0            1.010892e+08                     0.386079  2016      ESP   Spain\n",
       "1            8.461087e+07                     0.322566  2017      ESP   Spain\n",
       "2            1.003444e+08                     0.384488  2018      ESP   Spain\n",
       "3            9.791330e+07                     0.375393  2019      ESP   Spain\n",
       "4            9.468208e+06                     0.416308  2020      ESP   Spain"
      ]
     },
     "execution_count": 28,
     "metadata": {},
     "output_type": "execute_result"
    }
   ],
   "source": [
    "df_renovable['iso_code'] = 'ESP' \n",
    "df_renovable['country'] = 'Spain' #AÑADIR COLUMNA Y VALOR   \n",
    " \n",
    "df_renovable"
   ]
  },
  {
   "cell_type": "code",
   "execution_count": 29,
   "metadata": {},
   "outputs": [
    {
     "name": "stdout",
     "output_type": "stream",
     "text": [
      "<class 'pandas.core.frame.DataFrame'>\n",
      "RangeIndex: 5 entries, 0 to 4\n",
      "Data columns (total 5 columns):\n",
      " #   Column                       Non-Null Count  Dtype  \n",
      "---  ------                       --------------  -----  \n",
      " 0   total_renewable_energy       5 non-null      float64\n",
      " 1   renewable_energy_percentage  5 non-null      float64\n",
      " 2   year                         5 non-null      int32  \n",
      " 3   iso_code                     5 non-null      object \n",
      " 4   country                      5 non-null      object \n",
      "dtypes: float64(2), int32(1), object(2)\n",
      "memory usage: 842.0 bytes\n"
     ]
    }
   ],
   "source": [
    "df_renovable.info(memory_usage='deep')"
   ]
  },
  {
   "cell_type": "markdown",
   "metadata": {},
   "source": [
    "DF ENERGIA NO RENOVABLE"
   ]
  },
  {
   "cell_type": "code",
   "execution_count": 30,
   "metadata": {},
   "outputs": [
    {
     "data": {
      "text/html": [
       "<div>\n",
       "<style scoped>\n",
       "    .dataframe tbody tr th:only-of-type {\n",
       "        vertical-align: middle;\n",
       "    }\n",
       "\n",
       "    .dataframe tbody tr th {\n",
       "        vertical-align: top;\n",
       "    }\n",
       "\n",
       "    .dataframe thead th {\n",
       "        text-align: right;\n",
       "    }\n",
       "</style>\n",
       "<table border=\"1\" class=\"dataframe\">\n",
       "  <thead>\n",
       "    <tr style=\"text-align: right;\">\n",
       "      <th></th>\n",
       "      <th>value</th>\n",
       "      <th>percentage</th>\n",
       "      <th>datetime</th>\n",
       "    </tr>\n",
       "  </thead>\n",
       "  <tbody>\n",
       "    <tr>\n",
       "      <th>0</th>\n",
       "      <td>1.607465e+08</td>\n",
       "      <td>0.613921</td>\n",
       "      <td>2016-01-01T00:00:00.000+01:00</td>\n",
       "    </tr>\n",
       "    <tr>\n",
       "      <th>1</th>\n",
       "      <td>1.776949e+08</td>\n",
       "      <td>0.677434</td>\n",
       "      <td>2017-01-01T00:00:00.000+01:00</td>\n",
       "    </tr>\n",
       "    <tr>\n",
       "      <th>2</th>\n",
       "      <td>1.606375e+08</td>\n",
       "      <td>0.615512</td>\n",
       "      <td>2018-01-01T00:00:00.000+01:00</td>\n",
       "    </tr>\n",
       "    <tr>\n",
       "      <th>3</th>\n",
       "      <td>1.629155e+08</td>\n",
       "      <td>0.624607</td>\n",
       "      <td>2019-01-01T00:00:00.000+01:00</td>\n",
       "    </tr>\n",
       "    <tr>\n",
       "      <th>4</th>\n",
       "      <td>1.327507e+07</td>\n",
       "      <td>0.583692</td>\n",
       "      <td>2020-01-01T00:00:00.000+01:00</td>\n",
       "    </tr>\n",
       "  </tbody>\n",
       "</table>\n",
       "</div>"
      ],
      "text/plain": [
       "          value  percentage                       datetime\n",
       "0  1.607465e+08    0.613921  2016-01-01T00:00:00.000+01:00\n",
       "1  1.776949e+08    0.677434  2017-01-01T00:00:00.000+01:00\n",
       "2  1.606375e+08    0.615512  2018-01-01T00:00:00.000+01:00\n",
       "3  1.629155e+08    0.624607  2019-01-01T00:00:00.000+01:00\n",
       "4  1.327507e+07    0.583692  2020-01-01T00:00:00.000+01:00"
      ]
     },
     "execution_count": 30,
     "metadata": {},
     "output_type": "execute_result"
    }
   ],
   "source": [
    "df_no_renovable = pd.DataFrame(No_Renovable)  #DF ENERGIA NO RENOVABLE \n",
    "df_no_renovable"
   ]
  },
  {
   "cell_type": "code",
   "execution_count": 31,
   "metadata": {},
   "outputs": [
    {
     "data": {
      "text/html": [
       "<div>\n",
       "<style scoped>\n",
       "    .dataframe tbody tr th:only-of-type {\n",
       "        vertical-align: middle;\n",
       "    }\n",
       "\n",
       "    .dataframe tbody tr th {\n",
       "        vertical-align: top;\n",
       "    }\n",
       "\n",
       "    .dataframe thead th {\n",
       "        text-align: right;\n",
       "    }\n",
       "</style>\n",
       "<table border=\"1\" class=\"dataframe\">\n",
       "  <thead>\n",
       "    <tr style=\"text-align: right;\">\n",
       "      <th></th>\n",
       "      <th>value</th>\n",
       "      <th>percentage</th>\n",
       "      <th>year</th>\n",
       "    </tr>\n",
       "  </thead>\n",
       "  <tbody>\n",
       "    <tr>\n",
       "      <th>0</th>\n",
       "      <td>1.607465e+08</td>\n",
       "      <td>0.613921</td>\n",
       "      <td>2016</td>\n",
       "    </tr>\n",
       "    <tr>\n",
       "      <th>1</th>\n",
       "      <td>1.776949e+08</td>\n",
       "      <td>0.677434</td>\n",
       "      <td>2017</td>\n",
       "    </tr>\n",
       "    <tr>\n",
       "      <th>2</th>\n",
       "      <td>1.606375e+08</td>\n",
       "      <td>0.615512</td>\n",
       "      <td>2018</td>\n",
       "    </tr>\n",
       "    <tr>\n",
       "      <th>3</th>\n",
       "      <td>1.629155e+08</td>\n",
       "      <td>0.624607</td>\n",
       "      <td>2019</td>\n",
       "    </tr>\n",
       "    <tr>\n",
       "      <th>4</th>\n",
       "      <td>1.327507e+07</td>\n",
       "      <td>0.583692</td>\n",
       "      <td>2020</td>\n",
       "    </tr>\n",
       "  </tbody>\n",
       "</table>\n",
       "</div>"
      ],
      "text/plain": [
       "          value  percentage  year\n",
       "0  1.607465e+08    0.613921  2016\n",
       "1  1.776949e+08    0.677434  2017\n",
       "2  1.606375e+08    0.615512  2018\n",
       "3  1.629155e+08    0.624607  2019\n",
       "4  1.327507e+07    0.583692  2020"
      ]
     },
     "execution_count": 31,
     "metadata": {},
     "output_type": "execute_result"
    }
   ],
   "source": [
    "df_no_renovable['datetime'] = pd.to_datetime(df_no_renovable['datetime'])   # Convertir la columna 'datetime' a tipo de datos datetime\n",
    "\n",
    "df_no_renovable['year'] = df_no_renovable['datetime'].dt.year  # Extraer el año y asignarlo a una nueva columna 'year'\n",
    "\n",
    "df = df_no_renovable.drop(columns=['datetime']) # Elimino la columna 'datetime' original\n",
    "\n",
    "df_no_renovable = df\n",
    "\n",
    "df_no_renovable"
   ]
  },
  {
   "cell_type": "code",
   "execution_count": 32,
   "metadata": {},
   "outputs": [
    {
     "data": {
      "text/plain": [
       "\"\\ndef format_decimal(number):          # Función para formatear los números en notación decimal estándar\\n\\n    return '{:,}'.format(int(number))  # Formatea el número con puntos y comas        \\n\\n# Aplico la función a la columna\\ndf_no_renovable['value'] = df_no_renovable['value'].apply(format_decimal)\\n\\ndf_no_renovable\\n\\n\""
      ]
     },
     "execution_count": 32,
     "metadata": {},
     "output_type": "execute_result"
    }
   ],
   "source": [
    "'''\n",
    "def format_decimal(number):          # Función para formatear los números en notación decimal estándar\n",
    "\n",
    "    return '{:,}'.format(int(number))  # Formatea el número con puntos y comas        \n",
    "\n",
    "# Aplico la función a la columna\n",
    "df_no_renovable['value'] = df_no_renovable['value'].apply(format_decimal)\n",
    "\n",
    "df_no_renovable\n",
    "\n",
    "'''"
   ]
  },
  {
   "cell_type": "code",
   "execution_count": 33,
   "metadata": {},
   "outputs": [],
   "source": [
    "df_no_renovable = df_no_renovable.rename(columns={'percentage': 'fossil_energy_percentage'}) #RENOMBRAR COLUMNA \n",
    "df_no_renovable = df_no_renovable.rename(columns={'value': 'total_fossil_energy'})"
   ]
  },
  {
   "cell_type": "code",
   "execution_count": 34,
   "metadata": {},
   "outputs": [
    {
     "data": {
      "text/html": [
       "<div>\n",
       "<style scoped>\n",
       "    .dataframe tbody tr th:only-of-type {\n",
       "        vertical-align: middle;\n",
       "    }\n",
       "\n",
       "    .dataframe tbody tr th {\n",
       "        vertical-align: top;\n",
       "    }\n",
       "\n",
       "    .dataframe thead th {\n",
       "        text-align: right;\n",
       "    }\n",
       "</style>\n",
       "<table border=\"1\" class=\"dataframe\">\n",
       "  <thead>\n",
       "    <tr style=\"text-align: right;\">\n",
       "      <th></th>\n",
       "      <th>total_fossil_energy</th>\n",
       "      <th>fossil_energy_percentage</th>\n",
       "      <th>year</th>\n",
       "    </tr>\n",
       "  </thead>\n",
       "  <tbody>\n",
       "    <tr>\n",
       "      <th>0</th>\n",
       "      <td>1.607465e+08</td>\n",
       "      <td>0.613921</td>\n",
       "      <td>2016</td>\n",
       "    </tr>\n",
       "    <tr>\n",
       "      <th>1</th>\n",
       "      <td>1.776949e+08</td>\n",
       "      <td>0.677434</td>\n",
       "      <td>2017</td>\n",
       "    </tr>\n",
       "    <tr>\n",
       "      <th>2</th>\n",
       "      <td>1.606375e+08</td>\n",
       "      <td>0.615512</td>\n",
       "      <td>2018</td>\n",
       "    </tr>\n",
       "    <tr>\n",
       "      <th>3</th>\n",
       "      <td>1.629155e+08</td>\n",
       "      <td>0.624607</td>\n",
       "      <td>2019</td>\n",
       "    </tr>\n",
       "    <tr>\n",
       "      <th>4</th>\n",
       "      <td>1.327507e+07</td>\n",
       "      <td>0.583692</td>\n",
       "      <td>2020</td>\n",
       "    </tr>\n",
       "  </tbody>\n",
       "</table>\n",
       "</div>"
      ],
      "text/plain": [
       "   total_fossil_energy  fossil_energy_percentage  year\n",
       "0         1.607465e+08                  0.613921  2016\n",
       "1         1.776949e+08                  0.677434  2017\n",
       "2         1.606375e+08                  0.615512  2018\n",
       "3         1.629155e+08                  0.624607  2019\n",
       "4         1.327507e+07                  0.583692  2020"
      ]
     },
     "execution_count": 34,
     "metadata": {},
     "output_type": "execute_result"
    }
   ],
   "source": [
    "df_no_renovable"
   ]
  },
  {
   "cell_type": "code",
   "execution_count": 35,
   "metadata": {},
   "outputs": [
    {
     "data": {
      "text/html": [
       "<div>\n",
       "<style scoped>\n",
       "    .dataframe tbody tr th:only-of-type {\n",
       "        vertical-align: middle;\n",
       "    }\n",
       "\n",
       "    .dataframe tbody tr th {\n",
       "        vertical-align: top;\n",
       "    }\n",
       "\n",
       "    .dataframe thead th {\n",
       "        text-align: right;\n",
       "    }\n",
       "</style>\n",
       "<table border=\"1\" class=\"dataframe\">\n",
       "  <thead>\n",
       "    <tr style=\"text-align: right;\">\n",
       "      <th></th>\n",
       "      <th>total_fossil_energy</th>\n",
       "      <th>fossil_energy_percentage</th>\n",
       "      <th>year</th>\n",
       "      <th>iso_code</th>\n",
       "      <th>country</th>\n",
       "    </tr>\n",
       "  </thead>\n",
       "  <tbody>\n",
       "    <tr>\n",
       "      <th>0</th>\n",
       "      <td>1.607465e+08</td>\n",
       "      <td>0.613921</td>\n",
       "      <td>2016</td>\n",
       "      <td>ESP</td>\n",
       "      <td>Spain</td>\n",
       "    </tr>\n",
       "    <tr>\n",
       "      <th>1</th>\n",
       "      <td>1.776949e+08</td>\n",
       "      <td>0.677434</td>\n",
       "      <td>2017</td>\n",
       "      <td>ESP</td>\n",
       "      <td>Spain</td>\n",
       "    </tr>\n",
       "    <tr>\n",
       "      <th>2</th>\n",
       "      <td>1.606375e+08</td>\n",
       "      <td>0.615512</td>\n",
       "      <td>2018</td>\n",
       "      <td>ESP</td>\n",
       "      <td>Spain</td>\n",
       "    </tr>\n",
       "    <tr>\n",
       "      <th>3</th>\n",
       "      <td>1.629155e+08</td>\n",
       "      <td>0.624607</td>\n",
       "      <td>2019</td>\n",
       "      <td>ESP</td>\n",
       "      <td>Spain</td>\n",
       "    </tr>\n",
       "    <tr>\n",
       "      <th>4</th>\n",
       "      <td>1.327507e+07</td>\n",
       "      <td>0.583692</td>\n",
       "      <td>2020</td>\n",
       "      <td>ESP</td>\n",
       "      <td>Spain</td>\n",
       "    </tr>\n",
       "  </tbody>\n",
       "</table>\n",
       "</div>"
      ],
      "text/plain": [
       "   total_fossil_energy  fossil_energy_percentage  year iso_code country\n",
       "0         1.607465e+08                  0.613921  2016      ESP   Spain\n",
       "1         1.776949e+08                  0.677434  2017      ESP   Spain\n",
       "2         1.606375e+08                  0.615512  2018      ESP   Spain\n",
       "3         1.629155e+08                  0.624607  2019      ESP   Spain\n",
       "4         1.327507e+07                  0.583692  2020      ESP   Spain"
      ]
     },
     "execution_count": 35,
     "metadata": {},
     "output_type": "execute_result"
    }
   ],
   "source": [
    "df_no_renovable['iso_code'] = 'ESP' \n",
    "df_no_renovable['country'] = 'Spain' \n",
    " \n",
    "df_no_renovable"
   ]
  },
  {
   "cell_type": "code",
   "execution_count": 36,
   "metadata": {},
   "outputs": [
    {
     "data": {
      "text/html": [
       "<div>\n",
       "<style scoped>\n",
       "    .dataframe tbody tr th:only-of-type {\n",
       "        vertical-align: middle;\n",
       "    }\n",
       "\n",
       "    .dataframe tbody tr th {\n",
       "        vertical-align: top;\n",
       "    }\n",
       "\n",
       "    .dataframe thead th {\n",
       "        text-align: right;\n",
       "    }\n",
       "</style>\n",
       "<table border=\"1\" class=\"dataframe\">\n",
       "  <thead>\n",
       "    <tr style=\"text-align: right;\">\n",
       "      <th></th>\n",
       "      <th>total_renewable_energy</th>\n",
       "      <th>renewable_energy_percentage</th>\n",
       "      <th>year</th>\n",
       "      <th>iso_code</th>\n",
       "      <th>country</th>\n",
       "      <th>total_fossil_energy</th>\n",
       "      <th>fossil_energy_percentage</th>\n",
       "    </tr>\n",
       "  </thead>\n",
       "  <tbody>\n",
       "    <tr>\n",
       "      <th>0</th>\n",
       "      <td>1.010892e+08</td>\n",
       "      <td>0.386079</td>\n",
       "      <td>2016</td>\n",
       "      <td>ESP</td>\n",
       "      <td>Spain</td>\n",
       "      <td>1.607465e+08</td>\n",
       "      <td>0.613921</td>\n",
       "    </tr>\n",
       "    <tr>\n",
       "      <th>1</th>\n",
       "      <td>8.461087e+07</td>\n",
       "      <td>0.322566</td>\n",
       "      <td>2017</td>\n",
       "      <td>ESP</td>\n",
       "      <td>Spain</td>\n",
       "      <td>1.776949e+08</td>\n",
       "      <td>0.677434</td>\n",
       "    </tr>\n",
       "    <tr>\n",
       "      <th>2</th>\n",
       "      <td>1.003444e+08</td>\n",
       "      <td>0.384488</td>\n",
       "      <td>2018</td>\n",
       "      <td>ESP</td>\n",
       "      <td>Spain</td>\n",
       "      <td>1.606375e+08</td>\n",
       "      <td>0.615512</td>\n",
       "    </tr>\n",
       "    <tr>\n",
       "      <th>3</th>\n",
       "      <td>9.791330e+07</td>\n",
       "      <td>0.375393</td>\n",
       "      <td>2019</td>\n",
       "      <td>ESP</td>\n",
       "      <td>Spain</td>\n",
       "      <td>1.629155e+08</td>\n",
       "      <td>0.624607</td>\n",
       "    </tr>\n",
       "    <tr>\n",
       "      <th>4</th>\n",
       "      <td>9.468208e+06</td>\n",
       "      <td>0.416308</td>\n",
       "      <td>2020</td>\n",
       "      <td>ESP</td>\n",
       "      <td>Spain</td>\n",
       "      <td>1.327507e+07</td>\n",
       "      <td>0.583692</td>\n",
       "    </tr>\n",
       "  </tbody>\n",
       "</table>\n",
       "</div>"
      ],
      "text/plain": [
       "   total_renewable_energy  renewable_energy_percentage  year iso_code country  \\\n",
       "0            1.010892e+08                     0.386079  2016      ESP   Spain   \n",
       "1            8.461087e+07                     0.322566  2017      ESP   Spain   \n",
       "2            1.003444e+08                     0.384488  2018      ESP   Spain   \n",
       "3            9.791330e+07                     0.375393  2019      ESP   Spain   \n",
       "4            9.468208e+06                     0.416308  2020      ESP   Spain   \n",
       "\n",
       "   total_fossil_energy  fossil_energy_percentage  \n",
       "0         1.607465e+08                  0.613921  \n",
       "1         1.776949e+08                  0.677434  \n",
       "2         1.606375e+08                  0.615512  \n",
       "3         1.629155e+08                  0.624607  \n",
       "4         1.327507e+07                  0.583692  "
      ]
     },
     "execution_count": 36,
     "metadata": {},
     "output_type": "execute_result"
    }
   ],
   "source": [
    "df_energy_API = df_renovable.merge(df_no_renovable, on=['year', 'iso_code', 'country'], how='inner')\n",
    "df_energy_API "
   ]
  },
  {
   "cell_type": "code",
   "execution_count": 37,
   "metadata": {},
   "outputs": [
    {
     "data": {
      "text/html": [
       "<div>\n",
       "<style scoped>\n",
       "    .dataframe tbody tr th:only-of-type {\n",
       "        vertical-align: middle;\n",
       "    }\n",
       "\n",
       "    .dataframe tbody tr th {\n",
       "        vertical-align: top;\n",
       "    }\n",
       "\n",
       "    .dataframe thead th {\n",
       "        text-align: right;\n",
       "    }\n",
       "</style>\n",
       "<table border=\"1\" class=\"dataframe\">\n",
       "  <thead>\n",
       "    <tr style=\"text-align: right;\">\n",
       "      <th></th>\n",
       "      <th>iso_code</th>\n",
       "      <th>country</th>\n",
       "      <th>year</th>\n",
       "      <th>total_fossil_energy</th>\n",
       "      <th>total_renewable_energy</th>\n",
       "      <th>fossil_energy_percentage</th>\n",
       "      <th>renewable_energy_percentage</th>\n",
       "    </tr>\n",
       "  </thead>\n",
       "  <tbody>\n",
       "    <tr>\n",
       "      <th>0</th>\n",
       "      <td>ESP</td>\n",
       "      <td>Spain</td>\n",
       "      <td>2016</td>\n",
       "      <td>1.607465e+08</td>\n",
       "      <td>1.010892e+08</td>\n",
       "      <td>0.613921</td>\n",
       "      <td>0.386079</td>\n",
       "    </tr>\n",
       "    <tr>\n",
       "      <th>1</th>\n",
       "      <td>ESP</td>\n",
       "      <td>Spain</td>\n",
       "      <td>2017</td>\n",
       "      <td>1.776949e+08</td>\n",
       "      <td>8.461087e+07</td>\n",
       "      <td>0.677434</td>\n",
       "      <td>0.322566</td>\n",
       "    </tr>\n",
       "    <tr>\n",
       "      <th>2</th>\n",
       "      <td>ESP</td>\n",
       "      <td>Spain</td>\n",
       "      <td>2018</td>\n",
       "      <td>1.606375e+08</td>\n",
       "      <td>1.003444e+08</td>\n",
       "      <td>0.615512</td>\n",
       "      <td>0.384488</td>\n",
       "    </tr>\n",
       "    <tr>\n",
       "      <th>3</th>\n",
       "      <td>ESP</td>\n",
       "      <td>Spain</td>\n",
       "      <td>2019</td>\n",
       "      <td>1.629155e+08</td>\n",
       "      <td>9.791330e+07</td>\n",
       "      <td>0.624607</td>\n",
       "      <td>0.375393</td>\n",
       "    </tr>\n",
       "    <tr>\n",
       "      <th>4</th>\n",
       "      <td>ESP</td>\n",
       "      <td>Spain</td>\n",
       "      <td>2020</td>\n",
       "      <td>1.327507e+07</td>\n",
       "      <td>9.468208e+06</td>\n",
       "      <td>0.583692</td>\n",
       "      <td>0.416308</td>\n",
       "    </tr>\n",
       "  </tbody>\n",
       "</table>\n",
       "</div>"
      ],
      "text/plain": [
       "  iso_code country  year  total_fossil_energy  total_renewable_energy  \\\n",
       "0      ESP   Spain  2016         1.607465e+08            1.010892e+08   \n",
       "1      ESP   Spain  2017         1.776949e+08            8.461087e+07   \n",
       "2      ESP   Spain  2018         1.606375e+08            1.003444e+08   \n",
       "3      ESP   Spain  2019         1.629155e+08            9.791330e+07   \n",
       "4      ESP   Spain  2020         1.327507e+07            9.468208e+06   \n",
       "\n",
       "   fossil_energy_percentage  renewable_energy_percentage  \n",
       "0                  0.613921                     0.386079  \n",
       "1                  0.677434                     0.322566  \n",
       "2                  0.615512                     0.384488  \n",
       "3                  0.624607                     0.375393  \n",
       "4                  0.583692                     0.416308  "
      ]
     },
     "execution_count": 37,
     "metadata": {},
     "output_type": "execute_result"
    }
   ],
   "source": [
    "column_order = ['iso_code', 'country', 'year', 'total_fossil_energy', 'total_renewable_energy', 'fossil_energy_percentage', 'renewable_energy_percentage']  # cambio el orden de las columnas\n",
    "df_energy_API = df_energy_API[column_order]\n",
    "df_energy_API "
   ]
  },
  {
   "cell_type": "code",
   "execution_count": 38,
   "metadata": {},
   "outputs": [],
   "source": [
    "df_energy_API.to_csv('../data/clean_api_ree.csv', index=False)"
   ]
  },
  {
   "cell_type": "code",
   "execution_count": 39,
   "metadata": {},
   "outputs": [
    {
     "data": {
      "text/html": [
       "<div>\n",
       "<style scoped>\n",
       "    .dataframe tbody tr th:only-of-type {\n",
       "        vertical-align: middle;\n",
       "    }\n",
       "\n",
       "    .dataframe tbody tr th {\n",
       "        vertical-align: top;\n",
       "    }\n",
       "\n",
       "    .dataframe thead th {\n",
       "        text-align: right;\n",
       "    }\n",
       "</style>\n",
       "<table border=\"1\" class=\"dataframe\">\n",
       "  <thead>\n",
       "    <tr style=\"text-align: right;\">\n",
       "      <th></th>\n",
       "      <th>iso_code</th>\n",
       "      <th>country</th>\n",
       "      <th>year</th>\n",
       "      <th>total_fossil_energy</th>\n",
       "      <th>total_renewable_energy</th>\n",
       "      <th>fossil_energy_percentage</th>\n",
       "      <th>renewable_energy_percentage</th>\n",
       "    </tr>\n",
       "  </thead>\n",
       "  <tbody>\n",
       "    <tr>\n",
       "      <th>0</th>\n",
       "      <td>ESP</td>\n",
       "      <td>Spain</td>\n",
       "      <td>2016</td>\n",
       "      <td>1.607465e+08</td>\n",
       "      <td>1.010892e+08</td>\n",
       "      <td>0.613921</td>\n",
       "      <td>0.386079</td>\n",
       "    </tr>\n",
       "    <tr>\n",
       "      <th>1</th>\n",
       "      <td>ESP</td>\n",
       "      <td>Spain</td>\n",
       "      <td>2017</td>\n",
       "      <td>1.776949e+08</td>\n",
       "      <td>8.461087e+07</td>\n",
       "      <td>0.677434</td>\n",
       "      <td>0.322566</td>\n",
       "    </tr>\n",
       "    <tr>\n",
       "      <th>2</th>\n",
       "      <td>ESP</td>\n",
       "      <td>Spain</td>\n",
       "      <td>2018</td>\n",
       "      <td>1.606375e+08</td>\n",
       "      <td>1.003444e+08</td>\n",
       "      <td>0.615512</td>\n",
       "      <td>0.384488</td>\n",
       "    </tr>\n",
       "    <tr>\n",
       "      <th>3</th>\n",
       "      <td>ESP</td>\n",
       "      <td>Spain</td>\n",
       "      <td>2019</td>\n",
       "      <td>1.629155e+08</td>\n",
       "      <td>9.791330e+07</td>\n",
       "      <td>0.624607</td>\n",
       "      <td>0.375393</td>\n",
       "    </tr>\n",
       "    <tr>\n",
       "      <th>4</th>\n",
       "      <td>ESP</td>\n",
       "      <td>Spain</td>\n",
       "      <td>2020</td>\n",
       "      <td>1.327507e+07</td>\n",
       "      <td>9.468208e+06</td>\n",
       "      <td>0.583692</td>\n",
       "      <td>0.416308</td>\n",
       "    </tr>\n",
       "  </tbody>\n",
       "</table>\n",
       "</div>"
      ],
      "text/plain": [
       "  iso_code country  year  total_fossil_energy  total_renewable_energy  \\\n",
       "0      ESP   Spain  2016         1.607465e+08            1.010892e+08   \n",
       "1      ESP   Spain  2017         1.776949e+08            8.461087e+07   \n",
       "2      ESP   Spain  2018         1.606375e+08            1.003444e+08   \n",
       "3      ESP   Spain  2019         1.629155e+08            9.791330e+07   \n",
       "4      ESP   Spain  2020         1.327507e+07            9.468208e+06   \n",
       "\n",
       "   fossil_energy_percentage  renewable_energy_percentage  \n",
       "0                  0.613921                     0.386079  \n",
       "1                  0.677434                     0.322566  \n",
       "2                  0.615512                     0.384488  \n",
       "3                  0.624607                     0.375393  \n",
       "4                  0.583692                     0.416308  "
      ]
     },
     "execution_count": 39,
     "metadata": {},
     "output_type": "execute_result"
    }
   ],
   "source": [
    "df_energy_API"
   ]
  },
  {
   "cell_type": "markdown",
   "metadata": {},
   "source": [
    "### Now we upload our file to MongoDB"
   ]
  },
  {
   "cell_type": "code",
   "execution_count": 40,
   "metadata": {},
   "outputs": [
    {
     "name": "stdout",
     "output_type": "stream",
     "text": [
      "Requirement already satisfied: pymongo in c:\\users\\abeln\\appdata\\local\\anaconda3\\envs\\env1\\lib\\site-packages (4.5.0)Note: you may need to restart the kernel to use updated packages.\n",
      "\n",
      "Requirement already satisfied: dnspython<3.0.0,>=1.16.0 in c:\\users\\abeln\\appdata\\local\\anaconda3\\envs\\env1\\lib\\site-packages (from pymongo) (2.4.2)\n"
     ]
    }
   ],
   "source": [
    "%pip install pymongo"
   ]
  },
  {
   "cell_type": "code",
   "execution_count": 41,
   "metadata": {},
   "outputs": [],
   "source": [
    "from pymongo import MongoClient"
   ]
  },
  {
   "cell_type": "code",
   "execution_count": 42,
   "metadata": {},
   "outputs": [
    {
     "data": {
      "text/plain": [
       "MongoClient(host=['localhost:27017'], document_class=dict, tz_aware=False, connect=True)"
      ]
     },
     "execution_count": 42,
     "metadata": {},
     "output_type": "execute_result"
    }
   ],
   "source": [
    "str_conn = 'mongodb://localhost:27017'   # str_con por defecto\n",
    "\n",
    "cursor = MongoClient(str_conn)\n",
    "\n",
    "cursor"
   ]
  },
  {
   "cell_type": "code",
   "execution_count": 43,
   "metadata": {},
   "outputs": [
    {
     "data": {
      "text/plain": [
       "['Companies', 'admin', 'config', 'energy_db', 'local']"
      ]
     },
     "execution_count": 43,
     "metadata": {},
     "output_type": "execute_result"
    }
   ],
   "source": [
    "cursor.list_database_names() # asi veo que bases de datos tengo en Mongo"
   ]
  },
  {
   "cell_type": "code",
   "execution_count": 54,
   "metadata": {},
   "outputs": [],
   "source": [
    "db = cursor['energy_db']"
   ]
  },
  {
   "cell_type": "code",
   "execution_count": 55,
   "metadata": {},
   "outputs": [],
   "source": [
    "colec = db.create_collection('API') #nueva coleccion"
   ]
  },
  {
   "cell_type": "code",
   "execution_count": 46,
   "metadata": {},
   "outputs": [],
   "source": [
    "dictio = df_energy_API.to_dict(orient='records')"
   ]
  },
  {
   "cell_type": "code",
   "execution_count": 47,
   "metadata": {},
   "outputs": [
    {
     "data": {
      "text/plain": [
       "[{'iso_code': 'ESP',\n",
       "  'country': 'Spain',\n",
       "  'year': 2016,\n",
       "  'total_fossil_energy': 160746522.3165003,\n",
       "  'total_renewable_energy': 101089169.1845004,\n",
       "  'fossil_energy_percentage': 0.6139213542470239,\n",
       "  'renewable_energy_percentage': 0.3860786457529761},\n",
       " {'iso_code': 'ESP',\n",
       "  'country': 'Spain',\n",
       "  'year': 2017,\n",
       "  'total_fossil_energy': 177694891.6319997,\n",
       "  'total_renewable_energy': 84610866.487,\n",
       "  'fossil_energy_percentage': 0.6774342008587749,\n",
       "  'renewable_energy_percentage': 0.32256579914122496},\n",
       " {'iso_code': 'ESP',\n",
       "  'country': 'Spain',\n",
       "  'year': 2018,\n",
       "  'total_fossil_energy': 160637496.8249998,\n",
       "  'total_renewable_energy': 100344405.2130003,\n",
       "  'fossil_energy_percentage': 0.6155120166210234,\n",
       "  'renewable_energy_percentage': 0.38448798337897666},\n",
       " {'iso_code': 'ESP',\n",
       "  'country': 'Spain',\n",
       "  'year': 2019,\n",
       "  'total_fossil_energy': 162915537.7390006,\n",
       "  'total_renewable_energy': 97913298.8200003,\n",
       "  'fossil_energy_percentage': 0.6246070790648495,\n",
       "  'renewable_energy_percentage': 0.3753929209351504},\n",
       " {'iso_code': 'ESP',\n",
       "  'country': 'Spain',\n",
       "  'year': 2020,\n",
       "  'total_fossil_energy': 13275074.535,\n",
       "  'total_renewable_energy': 9468207.515,\n",
       "  'fossil_energy_percentage': 0.5836921208564091,\n",
       "  'renewable_energy_percentage': 0.4163078791435909}]"
      ]
     },
     "execution_count": 47,
     "metadata": {},
     "output_type": "execute_result"
    }
   ],
   "source": [
    "dictio"
   ]
  },
  {
   "cell_type": "code",
   "execution_count": 56,
   "metadata": {},
   "outputs": [
    {
     "data": {
      "text/plain": [
       "<pymongo.results.InsertManyResult at 0x200c7676860>"
      ]
     },
     "execution_count": 56,
     "metadata": {},
     "output_type": "execute_result"
    }
   ],
   "source": [
    "colec.insert_many(dictio)"
   ]
  }
 ],
 "metadata": {
  "kernelspec": {
   "display_name": "env1",
   "language": "python",
   "name": "python3"
  },
  "language_info": {
   "codemirror_mode": {
    "name": "ipython",
    "version": 3
   },
   "file_extension": ".py",
   "mimetype": "text/x-python",
   "name": "python",
   "nbconvert_exporter": "python",
   "pygments_lexer": "ipython3",
   "version": "3.11.5"
  }
 },
 "nbformat": 4,
 "nbformat_minor": 2
}
